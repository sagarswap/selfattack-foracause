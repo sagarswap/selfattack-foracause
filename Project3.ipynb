{
 "cells": [
  {
   "cell_type": "code",
   "execution_count": 1,
   "metadata": {},
   "outputs": [],
   "source": [
    "import pandas as pd\n",
    "from sklearn import tree\n",
    "from sklearn.model_selection import train_test_split\n",
    "from sklearn.metrics import accuracy_score, precision_score, recall_score, f1_score\n",
    "from sklearn.svm import SVC\n",
    "from sklearn.ensemble import RandomForestClassifier\n",
    "from sklearn.neighbors import KNeighborsClassifier"
   ]
  },
  {
   "cell_type": "code",
   "execution_count": 5,
   "metadata": {},
   "outputs": [],
   "source": [
    "data=pd.read_csv('./data/processedLessData.csv')\n",
    "train, test=train_test_split(data, test_size=0.2)\n",
    "train_Y=train['malicious']\n",
    "train_X=train.drop(['malicious'], axis=1)\n",
    "test_Y=test['malicious']\n",
    "test_X=test.drop(['malicious'], axis=1)"
   ]
  },
  {
   "cell_type": "code",
   "execution_count": 16,
   "metadata": {},
   "outputs": [
    {
     "name": "stdout",
     "output_type": "stream",
     "text": [
      "Accuracy: 0.9995002498750625\n"
     ]
    }
   ],
   "source": [
    "DTClassifier=tree.DecisionTreeClassifier()\n",
    "DTClassifier.fit(train_X, train_Y)\n",
    "y_pred1=DTClassifier.predict(test_X)\n",
    "print(\"Accuracy:\", accuracy_score(test_Y, y_pred1))\n",
    "print(\"Precision:\", precision_score(test_Y, y_pred1))\n",
    "print(\"Recall:\", recall_score(test_Y, y_pred1))\n",
    "print(\"f1 Score:\", f1_score(test_Y, y_pred1))"
   ]
  },
  {
   "cell_type": "code",
   "execution_count": 11,
   "metadata": {},
   "outputs": [],
   "source": [
    "SVMClassifier=SVC(kernel='linear')\n",
    "SVMClassifier.fit(train_X, train_Y)\n",
    "y_pred2=SVMClassifier.predict(test_X)\n",
    "print(\"Accuracy:\", accuracy_score(test_Y, y_pred2))\n",
    "print(\"Precision:\", precision_score(test_Y, y_pred2))\n",
    "print(\"Recall:\", recall_score(test_Y, y_pred2))\n",
    "print(\"f1 Score:\", f1_score(test_Y, y_pred2))"
   ]
  },
  {
   "cell_type": "code",
   "execution_count": 7,
   "metadata": {},
   "outputs": [
    {
     "name": "stdout",
     "output_type": "stream",
     "text": [
      "Accuracy of Random Forest Classifier: 0.999000499750125\n"
     ]
    }
   ],
   "source": [
    "RFClassifier=RandomForestClassifier(n_estimators=100)\n",
    "RFClassifier.fit(train_X, train_Y)\n",
    "y_pred3=RFClassifier.predict(test_X)\n",
    "print(\"Accuracy of Random Forest Classifier:\", accuracy_score(test_Y, y_pred3))\n",
    "print(\"Precision:\", precision_score(test_Y, y_pred3))\n",
    "print(\"Recall:\", recall_score(test_Y, y_pred3))\n",
    "print(\"f1 Score:\", f1_score(test_Y, y_pred3))"
   ]
  },
  {
   "cell_type": "code",
   "execution_count": 17,
   "metadata": {},
   "outputs": [
    {
     "name": "stdout",
     "output_type": "stream",
     "text": [
      "Accuracy of the classifier is: 0.9565217391304348\n"
     ]
    }
   ],
   "source": [
    "KNNClassifier=KNeighborsClassifier(n_neighbors=10)\n",
    "KNNClassifier.fit(train_X, train_Y)\n",
    "y_pred4=KNNClassifier.predict(test_X)\n",
    "print(\"Accuracy of the classifier is:\",accuracy_score(test_Y, y_pred4))\n",
    "print(\"Precision:\", precision_score(test_Y, y_pred4))\n",
    "print(\"Recall:\", recall_score(test_Y, y_pred4))\n",
    "print(\"f1 Score:\", f1_score(test_Y, y_pred4))"
   ]
  }
 ],
 "metadata": {
  "kernelspec": {
   "display_name": "Python 3",
   "language": "python",
   "name": "python3"
  },
  "language_info": {
   "codemirror_mode": {
    "name": "ipython",
    "version": 3
   },
   "file_extension": ".py",
   "mimetype": "text/x-python",
   "name": "python",
   "nbconvert_exporter": "python",
   "pygments_lexer": "ipython3",
   "version": "3.10.4"
  }
 },
 "nbformat": 4,
 "nbformat_minor": 2
}
